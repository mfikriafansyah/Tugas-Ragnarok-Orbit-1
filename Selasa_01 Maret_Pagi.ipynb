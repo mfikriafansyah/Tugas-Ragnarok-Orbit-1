{
 "cells": [
  {
   "cell_type": "code",
   "execution_count": 1,
   "id": "28b83b26",
   "metadata": {},
   "outputs": [
    {
     "name": "stdout",
     "output_type": "stream",
     "text": [
      "Hello World\n"
     ]
    }
   ],
   "source": [
    "#Let's try it out!\n",
    "print (\"Hello World\")"
   ]
  },
  {
   "cell_type": "code",
   "execution_count": 2,
   "id": "a22629a1",
   "metadata": {},
   "outputs": [
    {
     "name": "stdout",
     "output_type": "stream",
     "text": [
      "Hello\n"
     ]
    }
   ],
   "source": [
    "#Creating a String\n",
    "#single world\n",
    "print ('Hello')"
   ]
  },
  {
   "cell_type": "code",
   "execution_count": 3,
   "id": "1d659602",
   "metadata": {},
   "outputs": [
    {
     "name": "stdout",
     "output_type": "stream",
     "text": [
      "Hello\n",
      "\n",
      "WOrld\n"
     ]
    }
   ],
   "source": [
    "#Creating a String\n",
    "#single world\n",
    "print ('Hello')\n",
    "print () # Used to have a line space between two sentences\n",
    "print ('WOrld')"
   ]
  },
  {
   "cell_type": "code",
   "execution_count": 4,
   "id": "588c204f",
   "metadata": {},
   "outputs": [
    {
     "name": "stdout",
     "output_type": "stream",
     "text": [
      "Hello\n",
      "WOrld\n"
     ]
    }
   ],
   "source": [
    "#Creating a String\n",
    "#single world\n",
    "#without a line space\n",
    "print ('Hello')\n",
    "print ('WOrld')"
   ]
  },
  {
   "cell_type": "code",
   "execution_count": 6,
   "id": "0b1305f2",
   "metadata": {},
   "outputs": [
    {
     "name": "stdout",
     "output_type": "stream",
     "text": [
      "Hello\n",
      "This is also a string\n"
     ]
    }
   ],
   "source": [
    "#entire phrase\n",
    "print ('Hello')\n",
    "print ('This is also a string')"
   ]
  },
  {
   "cell_type": "code",
   "execution_count": 7,
   "id": "284d01e8",
   "metadata": {},
   "outputs": [
    {
     "name": "stdout",
     "output_type": "stream",
     "text": [
      "Hello\n",
      "\n",
      "This is also a string\n"
     ]
    }
   ],
   "source": [
    "#entire phrase\n",
    "print ('Hello')\n",
    "print () #Used to have a line space between two sentences\n",
    "print ('This is also a string')"
   ]
  },
  {
   "cell_type": "code",
   "execution_count": 8,
   "id": "379ffc3f",
   "metadata": {},
   "outputs": [
    {
     "name": "stdout",
     "output_type": "stream",
     "text": [
      "New York\n",
      "<class 'str'>\n",
      "8\n"
     ]
    }
   ],
   "source": [
    "#VARIABLES\n",
    "s = 'New York'\n",
    "print(s)\n",
    "print(type(s))\n",
    "print(len(s)) #what's the string length"
   ]
  },
  {
   "cell_type": "code",
   "execution_count": 10,
   "id": "0fb6242c",
   "metadata": {},
   "outputs": [
    {
     "name": "stdout",
     "output_type": "stream",
     "text": [
      "Hello World\n",
      "\n",
      "H\n",
      "\n",
      "e\n"
     ]
    }
   ],
   "source": [
    "#STRING INDEX\n",
    "# Assign s as a string\n",
    "s = 'Hello World'\n",
    "# Print the object\n",
    "print(s)\n",
    "print()\n",
    "#Show first element (in this case a letter)\n",
    "print(s[0])\n",
    "print()\n",
    "#Show the second element (also a letter)\n",
    "print(s[1])"
   ]
  },
  {
   "cell_type": "code",
   "execution_count": 11,
   "id": "7696b269",
   "metadata": {},
   "outputs": [
    {
     "name": "stdout",
     "output_type": "stream",
     "text": [
      "Hello World\n"
     ]
    }
   ],
   "source": [
    "#String Concatenation and Repetition\n",
    "#concatenation (addition)\n",
    "s1 = 'Hello'\n",
    "s2 = \"World\"\n",
    "print(s1 + \" \" + s2)"
   ]
  },
  {
   "cell_type": "code",
   "execution_count": 12,
   "id": "665e3c25",
   "metadata": {},
   "outputs": [
    {
     "name": "stdout",
     "output_type": "stream",
     "text": [
      "Hello_Hello_Hello_\n",
      "----------\n"
     ]
    }
   ],
   "source": [
    "#String Concatenation and Repetition\n",
    "#repetition (multiplication)\n",
    "print(\"Hello_\" * 3)\n",
    "print(\"-\" * 10)"
   ]
  },
  {
   "cell_type": "code",
   "execution_count": 13,
   "id": "97e4381f",
   "metadata": {},
   "outputs": [
    {
     "name": "stdout",
     "output_type": "stream",
     "text": [
      "a\n",
      "e Wor\n",
      "Worl\n",
      "True\n"
     ]
    }
   ],
   "source": [
    "#String Slicing & Indexing\n",
    "s = \"Namaste World\"\n",
    "#print sub strings\n",
    "print(s[1]) #This is indexing.\n",
    "print(s[6:11]) #This is known as slicing.\n",
    "print(s[-5:-1])\n",
    "#test substring membership\n",
    "print(\"Wor\" in s)\n"
   ]
  },
  {
   "cell_type": "code",
   "execution_count": 15,
   "id": "4fddd9fb",
   "metadata": {},
   "outputs": [
    {
     "name": "stdout",
     "output_type": "stream",
     "text": [
      "HELLO WORLD\n",
      "hello world\n"
     ]
    }
   ],
   "source": [
    "#Basic Built-in String methods\n",
    "s = \"Hello World\"\n",
    "print(s.upper()) ## Convert all the element of the string to Upper case..!!\n",
    "print(s.lower()) ## Convert all the element of the string to Lower case..!!"
   ]
  },
  {
   "cell_type": "code",
   "execution_count": 17,
   "id": "52c45efb",
   "metadata": {},
   "outputs": [
    {
     "name": "stdout",
     "output_type": "stream",
     "text": [
      "My name is Einstein, my age is 22, and it is True that I am married\n",
      "My name is Einstein, my age is 22, and it is True that I am married\n"
     ]
    }
   ],
   "source": [
    "#Print Formatting\n",
    "name = \"Einstein\"\n",
    "age = 22\n",
    "married = True\n",
    "print(\"My name is %s, my age is %s, and it is %s that I am married\" % (name, age, married))\n",
    "print(\"My name is {}, my age is {}, and it is {} that I am married\".format(name, age, married))"
   ]
  },
  {
   "cell_type": "code",
   "execution_count": 18,
   "id": "8078a295",
   "metadata": {},
   "outputs": [
    {
     "name": "stdout",
     "output_type": "stream",
     "text": [
      "3\n",
      "1\n",
      "4\n",
      "1.5\n"
     ]
    }
   ],
   "source": [
    "#Numbers\n",
    "#Types of numbers\n",
    "#Basic Arithmetic\n",
    "# Addition\n",
    "print(2+1)\n",
    "# Subtraction\n",
    "print(2-1)\n",
    "# Multiplication\n",
    "print(2*2)\n",
    "# Division\n",
    "print(3/2)"
   ]
  },
  {
   "cell_type": "code",
   "execution_count": 21,
   "id": "4e40beab",
   "metadata": {},
   "outputs": [
    {
     "data": {
      "text/plain": [
       "8"
      ]
     },
     "execution_count": 21,
     "metadata": {},
     "output_type": "execute_result"
    }
   ],
   "source": [
    "#Numbers\n",
    "#Types of numbers\n",
    "#Arithmetic continued\n",
    "#Powers\n",
    "2**3"
   ]
  },
  {
   "cell_type": "code",
   "execution_count": 22,
   "id": "a80e80f6",
   "metadata": {},
   "outputs": [
    {
     "data": {
      "text/plain": [
       "105"
      ]
     },
     "execution_count": 22,
     "metadata": {},
     "output_type": "execute_result"
    }
   ],
   "source": [
    "#Numbers\n",
    "#Types of numbers\n",
    "#Arithmetic continued\n",
    "#Order of Operations followed in Python\n",
    "2 + 10 * 10 + 3"
   ]
  },
  {
   "cell_type": "code",
   "execution_count": 23,
   "id": "ee3f6223",
   "metadata": {},
   "outputs": [
    {
     "data": {
      "text/plain": [
       "156"
      ]
     },
     "execution_count": 23,
     "metadata": {},
     "output_type": "execute_result"
    }
   ],
   "source": [
    "#Numbers\n",
    "#Types of numbers\n",
    "#Arithmetic continued\n",
    "#Can use parenthesis to specify orders\n",
    "(2+10) * (10+3)"
   ]
  },
  {
   "cell_type": "code",
   "execution_count": 24,
   "id": "015b4b8d",
   "metadata": {},
   "outputs": [
    {
     "data": {
      "text/plain": [
       "10"
      ]
     },
     "execution_count": 24,
     "metadata": {},
     "output_type": "execute_result"
    }
   ],
   "source": [
    "#Variable Assignments\n",
    "# Let's create an object called \"a\" and assign it the number 5\n",
    "a = 5\n",
    "\n",
    "# Adding the objects\n",
    "a+a\n"
   ]
  },
  {
   "cell_type": "code",
   "execution_count": 25,
   "id": "45a389c2",
   "metadata": {},
   "outputs": [
    {
     "data": {
      "text/plain": [
       "10"
      ]
     },
     "execution_count": 25,
     "metadata": {},
     "output_type": "execute_result"
    }
   ],
   "source": [
    "# Reassignment\n",
    "a = 10\n",
    "a"
   ]
  },
  {
   "cell_type": "code",
   "execution_count": null,
   "id": "bc8a3417",
   "metadata": {},
   "outputs": [],
   "source": []
  }
 ],
 "metadata": {
  "kernelspec": {
   "display_name": "Python 3 (ipykernel)",
   "language": "python",
   "name": "python3"
  },
  "language_info": {
   "codemirror_mode": {
    "name": "ipython",
    "version": 3
   },
   "file_extension": ".py",
   "mimetype": "text/x-python",
   "name": "python",
   "nbconvert_exporter": "python",
   "pygments_lexer": "ipython3",
   "version": "3.9.7"
  }
 },
 "nbformat": 4,
 "nbformat_minor": 5
}
