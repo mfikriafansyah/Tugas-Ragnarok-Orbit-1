{
  "cells": [
    {
      "cell_type": "code",
      "execution_count": 19,
      "id": "d6078607",
      "metadata": {},
      "outputs": [
        {
          "name": "stdout",
          "output_type": "stream",
          "text": [
            "Nomor 1\n"
          ]
        }
      ],
      "source": [
        "print(\"Nomor 1\")"
      ]
    },
    {
      "cell_type": "code",
      "execution_count": 3,
      "id": "0ecced1e",
      "metadata": {},
      "outputs": [
        {
          "name": "stdout",
          "output_type": "stream",
          "text": [
            "False\n",
            "True\n"
          ]
        }
      ],
      "source": [
        "def divisible (m,n):\n",
        "    if (m % n == 0):\n",
        "        return True\n",
        "\n",
        "    else :\n",
        "        return False\n",
        "\n",
        "print(divisible(22,5))\n",
        "print(divisible(80,20))"
      ]
    },
    {
      "cell_type": "code",
      "execution_count": 20,
      "id": "c4b0807e",
      "metadata": {},
      "outputs": [
        {
          "name": "stdout",
          "output_type": "stream",
          "text": [
            "Nomor 2\n"
          ]
        }
      ],
      "source": [
        "print(\"Nomor 2\")"
      ]
    },
    {
      "cell_type": "code",
      "execution_count": 42,
      "id": "c5cf9f96",
      "metadata": {},
      "outputs": [
        {
          "name": "stdout",
          "output_type": "stream",
          "text": [
            "Welcome To Victory Cafe\n",
            "====================\n",
            "========== MAIN MENU ==========\n",
            " 1. |Soup and salad       | \n",
            " 2. |Pasta with meat sauce| \n",
            " 3. |Chef’s special       | \n",
            "====================\n",
            "Which number would you like to order? 1\n",
            "One Soup and salad coming right up!\n"
          ]
        }
      ],
      "source": [
        "def main_menu():\n",
        "    print(\"Welcome To Victory Cafe\")\n",
        "    print('='*20)\n",
        "    print('='*10, \"MAIN MENU\",'='*10)\n",
        "    print(\" 1. |Soup and salad       | \")\n",
        "    print(\" 2. |Pasta with meat sauce| \")\n",
        "    print(\" 3. |Chef’s special       | \")\n",
        "    print('='*20)\n",
        "    \n",
        "    number = input(\"Which number would you like to order? \")\n",
        "    if number == '1':\n",
        "        print('One Soup and salad coming right up!')\n",
        "    elif number == '2':\n",
        "        print('One Pasta with meat sauce coming right up!')\n",
        "    elif number == '3':\n",
        "        print('One Chef’s special coming right up!')\n",
        "    else :\n",
        "        print('Sorry, that is not a valid choice.')\n",
        "# main program\n",
        "if __name__=='__main__':\n",
        "    main_menu()"
      ]
    },
    {
      "cell_type": "code",
      "execution_count": 2,
      "id": "5b0e160a",
      "metadata": {},
      "outputs": [
        {
          "name": "stdout",
          "output_type": "stream",
          "text": [
            "Nomor 3\n"
          ]
        }
      ],
      "source": [
        "print(\"Nomor 3\")"
      ]
    },
    {
      "cell_type": "code",
      "execution_count": 10,
      "id": "75b6860f",
      "metadata": {},
      "outputs": [
        {
          "name": "stdout",
          "output_type": "stream",
          "text": [
            "Masukkan bilangan: 6\n",
            "True\n"
          ]
        }
      ],
      "source": [
        "def rand_divis_3 ():\n",
        "    x=int(input(\"Masukkan bilangan: \"))\n",
        "    \n",
        "    if (x % 3 == 0):\n",
        "        return True\n",
        "\n",
        "    else :\n",
        "        return False\n",
        "print(rand_divis_3())"
      ]
    },
    {
      "cell_type": "code",
      "execution_count": 11,
      "id": "2d1580b9",
      "metadata": {},
      "outputs": [
        {
          "name": "stdout",
          "output_type": "stream",
          "text": [
            "Nomor 4\n"
          ]
        }
      ],
      "source": [
        "print(\"Nomor 4\")"
      ]
    },
    {
      "cell_type": "code",
      "execution_count": 22,
      "id": "593f43b2",
      "metadata": {
        "scrolled": true
      },
      "outputs": [
        {
          "data": {
            "text/plain": [
              "False"
            ]
          },
          "execution_count": 22,
          "metadata": {},
          "output_type": "execute_result"
        }
      ],
      "source": [
        "1 != 1\n"
      ]
    },
    {
      "cell_type": "code",
      "execution_count": 24,
      "id": "6c3e617d",
      "metadata": {},
      "outputs": [
        {
          "name": "stdout",
          "output_type": "stream",
          "text": [
            "True\n"
          ]
        }
      ],
      "source": [
        "def not_equal(x,y):\n",
        "    if (x != y):\n",
        "        return True\n",
        "    else :\n",
        "        return False\n",
        "print(not_equal(3,2))"
      ]
    },
    {
      "cell_type": "code",
      "execution_count": 26,
      "id": "5a511fe6",
      "metadata": {},
      "outputs": [
        {
          "name": "stdout",
          "output_type": "stream",
          "text": [
            "True\n"
          ]
        }
      ],
      "source": [
        "def not_equal(x,y):\n",
        "    if (not (x == y)):\n",
        "        return True\n",
        "    else :\n",
        "        return False\n",
        "print(not_equal(3,2))"
      ]
    },
    {
      "cell_type": "code",
      "execution_count": 38,
      "id": "174788ed",
      "metadata": {},
      "outputs": [
        {
          "name": "stdout",
          "output_type": "stream",
          "text": [
            "Nomor 5\n"
          ]
        }
      ],
      "source": [
        "print(\"Nomor 5\")"
      ]
    },
    {
      "cell_type": "code",
      "execution_count": 36,
      "id": "47450e52",
      "metadata": {},
      "outputs": [
        {
          "name": "stdout",
          "output_type": "stream",
          "text": [
            "Enter your name: vikto\n"
          ]
        },
        {
          "ename": "NameError",
          "evalue": "name 'name' is not defined",
          "output_type": "error",
          "traceback": [
            "\u001b[1;31m---------------------------------------------------------------------------\u001b[0m",
            "\u001b[1;31mNameError\u001b[0m                                 Traceback (most recent call last)",
            "\u001b[1;32m~\\AppData\\Local\\Temp/ipykernel_8040/504347458.py\u001b[0m in \u001b[0;36m<module>\u001b[1;34m\u001b[0m\n\u001b[0;32m      3\u001b[0m \u001b[1;33m\u001b[0m\u001b[0m\n\u001b[0;32m      4\u001b[0m \u001b[0mask_name\u001b[0m\u001b[1;33m(\u001b[0m\u001b[1;33m)\u001b[0m\u001b[1;33m\u001b[0m\u001b[1;33m\u001b[0m\u001b[0m\n\u001b[1;32m----> 5\u001b[1;33m \u001b[0mprint\u001b[0m\u001b[1;33m(\u001b[0m\u001b[1;34m\"Your name is\"\u001b[0m\u001b[1;33m,\u001b[0m \u001b[0mname\u001b[0m\u001b[1;33m)\u001b[0m\u001b[1;33m\u001b[0m\u001b[1;33m\u001b[0m\u001b[0m\n\u001b[0m",
            "\u001b[1;31mNameError\u001b[0m: name 'name' is not defined"
          ]
        }
      ],
      "source": [
        "def ask_name():\n",
        "    name = input(\"Enter your name: \")\n",
        "\n",
        "ask_name()\n",
        "print(\"Your name is\", name)"
      ]
    },
    {
      "cell_type": "code",
      "execution_count": 87,
      "id": "e69fa932",
      "metadata": {},
      "outputs": [
        {
          "name": "stdout",
          "output_type": "stream",
          "text": [
            "Enter your name: vikto\n",
            "Your name is vikto\n"
          ]
        }
      ],
      "source": [
        "name = input(\"Enter your name: \")\n",
        "print(\"Your name is\", name)\n"
      ]
    },
    {
      "cell_type": "code",
      "execution_count": 73,
      "id": "89f483f3",
      "metadata": {},
      "outputs": [
        {
          "name": "stdout",
          "output_type": "stream",
          "text": [
            "atau\n"
          ]
        }
      ],
      "source": [
        "print ('atau')"
      ]
    },
    {
      "cell_type": "code",
      "execution_count": 89,
      "id": "dfa1d0e9",
      "metadata": {},
      "outputs": [
        {
          "name": "stdout",
          "output_type": "stream",
          "text": [
            "Your name is Vikto\n"
          ]
        }
      ],
      "source": [
        "def ask_name(name):\n",
        "    print(\"Your name is\", name)\n",
        "ask_name(\"Vikto\")"
      ]
    },
    {
      "cell_type": "code",
      "execution_count": null,
      "id": "246d2db6",
      "metadata": {},
      "outputs": [],
      "source": []
    },
    {
      "cell_type": "code",
      "execution_count": null,
      "id": "61857106",
      "metadata": {},
      "outputs": [],
      "source": []
    }
  ],
  "metadata": {
    "kernelspec": {
      "display_name": "Python 3 (ipykernel)",
      "language": "python",
      "name": "python3"
    },
    "language_info": {
      "codemirror_mode": {
        "name": "ipython",
        "version": 3
      },
      "file_extension": ".py",
      "mimetype": "text/x-python",
      "name": "python",
      "nbconvert_exporter": "python",
      "pygments_lexer": "ipython3",
      "version": "3.9.7"
    }
  },
  "nbformat": 4,
  "nbformat_minor": 5
}