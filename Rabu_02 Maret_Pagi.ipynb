{
  "cells": [
    {
      "cell_type": "code",
      "execution_count": 1,
      "id": "5c5e76cd",
      "metadata": {},
      "outputs": [
        {
          "name": "stdout",
          "output_type": "stream",
          "text": [
            "Nomor 1\n"
          ]
        }
      ],
      "source": [
        "print (\"Nomor 1\")"
      ]
    },
    {
      "cell_type": "code",
      "execution_count": 2,
      "id": "2c0800ad",
      "metadata": {},
      "outputs": [
        {
          "data": {
            "text/plain": [
              "False"
            ]
          },
          "execution_count": 2,
          "metadata": {},
          "output_type": "execute_result"
        }
      ],
      "source": [
        "a = False\n",
        "b = True\n",
        "c = False\n",
        "\n",
        "(b and c)"
      ]
    },
    {
      "cell_type": "code",
      "execution_count": 3,
      "id": "df7a8a5d",
      "metadata": {},
      "outputs": [
        {
          "data": {
            "text/plain": [
              "True"
            ]
          },
          "execution_count": 3,
          "metadata": {},
          "output_type": "execute_result"
        }
      ],
      "source": [
        "b or c"
      ]
    },
    {
      "cell_type": "code",
      "execution_count": 4,
      "id": "3a52011a",
      "metadata": {},
      "outputs": [
        {
          "data": {
            "text/plain": [
              "True"
            ]
          },
          "execution_count": 4,
          "metadata": {},
          "output_type": "execute_result"
        }
      ],
      "source": [
        "not a and b"
      ]
    },
    {
      "cell_type": "code",
      "execution_count": 5,
      "id": "40665fec",
      "metadata": {},
      "outputs": [
        {
          "data": {
            "text/plain": [
              "True"
            ]
          },
          "execution_count": 5,
          "metadata": {},
          "output_type": "execute_result"
        }
      ],
      "source": [
        "(a and b) or not c"
      ]
    },
    {
      "cell_type": "code",
      "execution_count": 6,
      "id": "a159f21c",
      "metadata": {},
      "outputs": [
        {
          "data": {
            "text/plain": [
              "False"
            ]
          },
          "execution_count": 6,
          "metadata": {},
          "output_type": "execute_result"
        }
      ],
      "source": [
        "not b and not (a or c)"
      ]
    },
    {
      "cell_type": "code",
      "execution_count": 7,
      "id": "cb458d8c",
      "metadata": {},
      "outputs": [
        {
          "name": "stdout",
          "output_type": "stream",
          "text": [
            "Nomor 2\n"
          ]
        }
      ],
      "source": [
        "print (\"Nomor 2\")"
      ]
    },
    {
      "cell_type": "code",
      "execution_count": 8,
      "id": "6a2d06f8",
      "metadata": {},
      "outputs": [
        {
          "ename": "SyntaxError",
          "evalue": "invalid syntax (Temp/ipykernel_5624/4038741968.py, line 1)",
          "output_type": "error",
          "traceback": [
            "\u001b[1;36m  File \u001b[1;32m\"C:\\Users\\this\\AppData\\Local\\Temp/ipykernel_5624/4038741968.py\"\u001b[1;36m, line \u001b[1;32m1\u001b[0m\n\u001b[1;33m    print (Hello!)\u001b[0m\n\u001b[1;37m                ^\u001b[0m\n\u001b[1;31mSyntaxError\u001b[0m\u001b[1;31m:\u001b[0m invalid syntax\n"
          ]
        }
      ],
      "source": [
        "print (Hello!)\n",
        "something == input ('Enter something: )\n",
        "print ('You entered:' something)"
      ]
    },
    {
      "cell_type": "code",
      "execution_count": 9,
      "id": "ab308a48",
      "metadata": {},
      "outputs": [
        {
          "name": "stdout",
          "output_type": "stream",
          "text": [
            "Enter something:Cinta\n",
            "Hello!\n",
            "You entered : Cinta\n"
          ]
        }
      ],
      "source": [
        "something = input (\"Enter something:\")\n",
        "print (\"Hello!\")\n",
        "print (\"You entered :\", something)"
      ]
    },
    {
      "cell_type": "code",
      "execution_count": 10,
      "id": "7603e4a5",
      "metadata": {},
      "outputs": [
        {
          "name": "stdout",
          "output_type": "stream",
          "text": [
            "Nomor 3\n"
          ]
        }
      ],
      "source": [
        "print (\"Nomor 3\")"
      ]
    },
    {
      "cell_type": "code",
      "execution_count": 11,
      "id": "5c86e9c9",
      "metadata": {},
      "outputs": [
        {
          "ename": "SyntaxError",
          "evalue": "invalid syntax (Temp/ipykernel_5624/697250657.py, line 3)",
          "output_type": "error",
          "traceback": [
            "\u001b[1;36m  File \u001b[1;32m\"C:\\Users\\this\\AppData\\Local\\Temp/ipykernel_5624/697250657.py\"\u001b[1;36m, line \u001b[1;32m3\u001b[0m\n\u001b[1;33m    if something = 'hello':\u001b[0m\n\u001b[1;37m                 ^\u001b[0m\n\u001b[1;31mSyntaxError\u001b[0m\u001b[1;31m:\u001b[0m invalid syntax\n"
          ]
        }
      ],
      "source": [
        "print('Hello!')\n",
        "something = input(\"Enter something: \")\n",
        "if something = 'hello':\n",
        "    print(\"Hello for you too!\")\n",
        "\n",
        "elif something = 'hi'\n",
        "    print('Hi there!')\n",
        "else:\n",
        "    print(\"I don't know what,\" something,\"means.\")"
      ]
    },
    {
      "cell_type": "code",
      "execution_count": 12,
      "id": "2d2caa37",
      "metadata": {},
      "outputs": [
        {
          "name": "stdout",
          "output_type": "stream",
          "text": [
            "Hello!\n",
            "Enter something: hello\n",
            "Hello for you too!\n"
          ]
        }
      ],
      "source": [
        "print('Hello!')\n",
        "something = input(\"Enter something: \")\n",
        "if something == 'hello':\n",
        "    print(\"Hello for you too!\")\n",
        "\n",
        "elif something == 'hi':\n",
        "    print(\"Hi there!\")\n",
        "\n",
        "else:\n",
        "    print(\"I don't know what\", something, \"means.\")"
      ]
    },
    {
      "cell_type": "code",
      "execution_count": 15,
      "id": "30a213cf",
      "metadata": {},
      "outputs": [
        {
          "name": "stdout",
          "output_type": "stream",
          "text": [
            "Nomor 4\n"
          ]
        }
      ],
      "source": [
        "print (\"Nomor 4\")"
      ]
    },
    {
      "cell_type": "code",
      "execution_count": 13,
      "id": "4d2663e1",
      "metadata": {},
      "outputs": [
        {
          "name": "stdout",
          "output_type": "stream",
          "text": [
            "halo hai\n",
            "halo hai\n",
            "halo hai\n",
            "halo hai\n",
            "halo hai\n",
            "halo hai\n",
            "halo hai\n",
            "halo hai\n",
            "halo hai\n",
            "halo hai\n",
            "halo hai\n",
            "halo hai\n",
            "halo hai\n",
            "halo hai\n",
            "halo hai\n",
            "halo hai\n",
            "halo hai\n",
            "halo hai\n",
            "halo hai\n",
            "halo hai\n",
            "halo hai\n",
            "halo hai\n",
            "halo hai\n",
            "halo hai\n",
            "halo hai\n",
            "halo hai\n",
            "halo hai\n",
            "halo hai\n",
            "halo hai\n",
            "halo hai\n",
            "halo hai\n",
            "halo hai\n",
            "halo hai\n",
            "halo hai\n",
            "halo hai\n",
            "halo hai\n",
            "halo hai\n",
            "halo hai\n",
            "halo hai\n",
            "halo hai\n",
            "halo hai\n",
            "halo hai\n",
            "halo hai\n",
            "halo hai\n",
            "halo hai\n",
            "halo hai\n",
            "halo hai\n",
            "halo hai\n",
            "halo hai\n",
            "halo hai\n",
            "halo hai\n",
            "halo hai\n",
            "halo hai\n",
            "halo hai\n",
            "halo hai\n",
            "halo hai\n",
            "halo hai\n",
            "halo hai\n",
            "halo hai\n",
            "halo hai\n",
            "halo hai\n",
            "halo hai\n",
            "halo hai\n",
            "halo hai\n",
            "halo hai\n",
            "halo hai\n",
            "halo hai\n",
            "halo hai\n",
            "halo hai\n",
            "halo hai\n",
            "halo hai\n",
            "halo hai\n",
            "halo hai\n",
            "halo hai\n",
            "halo hai\n",
            "halo hai\n",
            "halo hai\n",
            "halo hai\n",
            "halo hai\n",
            "halo hai\n",
            "halo hai\n",
            "halo hai\n",
            "halo hai\n",
            "halo hai\n",
            "halo hai\n",
            "halo hai\n",
            "halo hai\n",
            "halo hai\n",
            "halo hai\n",
            "halo hai\n",
            "halo hai\n",
            "halo hai\n",
            "halo hai\n",
            "halo hai\n",
            "halo hai\n",
            "halo hai\n",
            "halo hai\n",
            "halo hai\n",
            "halo hai\n",
            "halo hai\n"
          ]
        }
      ],
      "source": [
        "for x in range(100):\n",
        "    print(\"halo hai\")"
      ]
    },
    {
      "cell_type": "code",
      "execution_count": 14,
      "id": "354d736e",
      "metadata": {},
      "outputs": [
        {
          "name": "stdout",
          "output_type": "stream",
          "text": [
            "halo hai\n",
            "halo hai\n",
            "halo hai\n",
            "halo hai\n",
            "halo hai\n",
            "halo hai\n",
            "halo hai\n",
            "halo hai\n",
            "halo hai\n",
            "halo hai\n",
            "halo hai\n",
            "halo hai\n",
            "halo hai\n",
            "halo hai\n",
            "halo hai\n",
            "halo hai\n",
            "halo hai\n",
            "halo hai\n",
            "halo hai\n",
            "halo hai\n",
            "halo hai\n",
            "halo hai\n",
            "halo hai\n",
            "halo hai\n",
            "halo hai\n",
            "halo hai\n",
            "halo hai\n",
            "halo hai\n",
            "halo hai\n",
            "halo hai\n",
            "halo hai\n",
            "halo hai\n",
            "halo hai\n",
            "halo hai\n",
            "halo hai\n",
            "halo hai\n",
            "halo hai\n",
            "halo hai\n",
            "halo hai\n",
            "halo hai\n",
            "halo hai\n",
            "halo hai\n",
            "halo hai\n",
            "halo hai\n",
            "halo hai\n",
            "halo hai\n",
            "halo hai\n",
            "halo hai\n",
            "halo hai\n",
            "halo hai\n",
            "halo hai\n",
            "halo hai\n",
            "halo hai\n",
            "halo hai\n",
            "halo hai\n",
            "halo hai\n",
            "halo hai\n",
            "halo hai\n",
            "halo hai\n",
            "halo hai\n",
            "halo hai\n",
            "halo hai\n",
            "halo hai\n",
            "halo hai\n",
            "halo hai\n",
            "halo hai\n",
            "halo hai\n",
            "halo hai\n",
            "halo hai\n",
            "halo hai\n",
            "halo hai\n",
            "halo hai\n",
            "halo hai\n",
            "halo hai\n",
            "halo hai\n",
            "halo hai\n",
            "halo hai\n",
            "halo hai\n",
            "halo hai\n",
            "halo hai\n",
            "halo hai\n",
            "halo hai\n",
            "halo hai\n",
            "halo hai\n",
            "halo hai\n",
            "halo hai\n",
            "halo hai\n",
            "halo hai\n",
            "halo hai\n",
            "halo hai\n",
            "halo hai\n",
            "halo hai\n",
            "halo hai\n",
            "halo hai\n",
            "halo hai\n",
            "halo hai\n",
            "halo hai\n",
            "halo hai\n",
            "halo hai\n",
            "halo hai\n"
          ]
        }
      ],
      "source": [
        "i = 1\n",
        "while i <= 100:\n",
        "  print(\"halo hai\")\n",
        "  i += 1"
      ]
    },
    {
      "cell_type": "code",
      "execution_count": 17,
      "id": "052f82cc",
      "metadata": {},
      "outputs": [
        {
          "name": "stdout",
          "output_type": "stream",
          "text": [
            "Nomor 5 a\n"
          ]
        }
      ],
      "source": [
        "print (\"Nomor 5 a\")"
      ]
    },
    {
      "cell_type": "markdown",
      "id": "32126787",
      "metadata": {},
      "source": [
        "# Table"
      ]
    },
    {
      "cell_type": "markdown",
      "id": "bc3ee55e",
      "metadata": {},
      "source": [
        "|Pemain 1||Pemain 2||Pemenang|\n",
        "|--------||--------||--------|\n",
        "|Batu||Gunting||Pemain 1|\n",
        "|Gunting||Gunting||Seri|\n",
        "|Batu||Batu||Seri|\n",
        "|Kertas||Kertas||Seri|\n",
        "|Batu||Kertas||Pemain 2|\n",
        "|Kertas||Batu||Pemain 1|\n",
        "|Kertas||Gunting||Pemain 2|\n",
        "|Gunting||Batu||Pemain 2|\n",
        "|Gunting||Kertas||Pemain 1|"
      ]
    },
    {
      "cell_type": "code",
      "execution_count": 18,
      "id": "91a092ac",
      "metadata": {},
      "outputs": [
        {
          "name": "stdout",
          "output_type": "stream",
          "text": [
            "Nomor 5 b\n"
          ]
        }
      ],
      "source": [
        "print (\"Nomor 5 b\")"
      ]
    },
    {
      "cell_type": "code",
      "execution_count": 20,
      "id": "47c6654d",
      "metadata": {},
      "outputs": [
        {
          "name": "stdout",
          "output_type": "stream",
          "text": [
            "Game Suit!\n",
            "Masukkan Player 1: kertas\n",
            "Masukkan Player 2: gunting\n",
            "Player 2 Wins!\n"
          ]
        }
      ],
      "source": [
        "print(\"Game Suit!\")\n",
        "Player1 = input(\"Masukkan Player 1: \")\n",
        "Player2 = input(\"Masukkan Player 2: \")\n",
        "if (Player1 == 'batu') and (Player2 == 'batu'):\n",
        "    print(\"Seri!\")\n",
        "\n",
        "elif (Player1 == 'batu') and (Player2 == 'kertas'):\n",
        "    print(\"Player 2 Wins!\")\n",
        "    \n",
        "elif (Player1 == 'batu') and (Player2 == 'gunting'):\n",
        "    print(\"Player 1 Wins!\")\n",
        "    \n",
        "elif (Player1 == 'gunting') and (Player2 == 'gunting'):\n",
        "    print(\"Seri!\")\n",
        "    \n",
        "elif (Player1 == 'gunting') and (Player2 == 'batu'):\n",
        "    print(\"Player 2 Wins!\")\n",
        "    \n",
        "elif (Player1 == 'gunting') and (Player2 == 'kertas'):\n",
        "    print(\"Player 1 Wins!\")\n",
        "    \n",
        "elif (Player1 == 'kertas') and (Player2 == 'kertas'):\n",
        "    print(\"Seri!\")\n",
        "    \n",
        "elif (Player1 == 'kertas') and (Player2 == 'batu'):\n",
        "    print(\"Player 1 Wins!\")\n",
        "    \n",
        "elif (Player1 == 'kertas') and (Player2 == 'gunting'):\n",
        "    print(\"Player 2 Wins!\")\n",
        "else:\n",
        "    print(\"Input tidak valid!. Gunakan “batu”, “ gunting” dan “kertas” tanpa tanda kutip!\")"
      ]
    },
    {
      "cell_type": "code",
      "execution_count": 22,
      "id": "f197c665",
      "metadata": {},
      "outputs": [
        {
          "name": "stdout",
          "output_type": "stream",
          "text": [
            "Nomor 6\n"
          ]
        }
      ],
      "source": [
        "print (\"Nomor 6\")"
      ]
    },
    {
      "cell_type": "code",
      "execution_count": 21,
      "id": "e517a3a4",
      "metadata": {},
      "outputs": [
        {
          "name": "stdout",
          "output_type": "stream",
          "text": [
            "Masukkan kata: aku\n",
            "Masukkan kata: ingin\n",
            "Masukkan kata: sukses\n",
            "Masukkan kata: berhenti\n",
            "Perulangan Berakhir\n"
          ]
        }
      ],
      "source": [
        "while True:\n",
        "    kata = input('Masukkan kata: ')\n",
        "    if kata == 'berhenti':\n",
        "        break\n",
        "print('Perulangan Berakhir')"
      ]
    },
    {
      "cell_type": "code",
      "execution_count": 23,
      "id": "5b5d404d",
      "metadata": {},
      "outputs": [
        {
          "name": "stdout",
          "output_type": "stream",
          "text": [
            "Nomor 7\n"
          ]
        }
      ],
      "source": [
        "print (\"Nomor 7\")"
      ]
    },
    {
      "cell_type": "code",
      "execution_count": 27,
      "id": "d6e80e49",
      "metadata": {},
      "outputs": [
        {
          "name": "stdout",
          "output_type": "stream",
          "text": [
            "------Selamat Berbelanja------\n",
            "------------------------------\n",
            "---------MENU CEMILAN---------\n",
            " 1. |Corn Dog - Rp. 10.000,-| \n",
            " 2. |Kebab    - Rp. 12.000,-| \n",
            " 3. |Hottang  - Rp. 15.000,-| \n",
            "------------------------------\n",
            "Masukkan Menu : 1\n",
            "Kamu memesan Corn Dog dengan harga Rp. 10.000,-, terima kasih sudah berbelanja!\n",
            "Adakah Tambahan : cukup\n",
            "Terima kasih sudah berbelanja cemilan dari kami!\n"
          ]
        }
      ],
      "source": [
        "while True :\n",
        "    print (\"------Selamat Berbelanja------\")\n",
        "    print (\"------------------------------\")\n",
        "    print (\"---------MENU CEMILAN---------\")\n",
        "    print (\" 1. |Corn Dog - Rp. 10.000,-| \")\n",
        "    print (\" 2. |Kebab    - Rp. 12.000,-| \")\n",
        "    print (\" 3. |Hottang  - Rp. 15.000,-| \")\n",
        "    print (\"------------------------------\")\n",
        "    pilihMenu = input(\"Masukkan Menu : \")\n",
        "    if pilihMenu == '1':\n",
        "        print(\"Kamu memesan Corn Dog dengan harga Rp. 10.000,-, terima kasih sudah berbelanja!\")\n",
        "    elif pilihMenu == '2':\n",
        "        print(\"Kamu memesan Kebab dengan harga Rp. 12.000,-, terima kasih sudah berbelanja!\")\n",
        "    elif pilihMenu == '3' :\n",
        "        print(\"Kamu memesan Hottang dengan harga Rp. 15.000,-, terima kasih sudah berbelanja!\")\n",
        "    else:\n",
        "        print(\"Menu tidak tersedia\")\n",
        "    \n",
        "    tambahan = input (\"Adakah Tambahan : \")\n",
        "    if tambahan == 'cukup':\n",
        "            break\n",
        "print(\"Terima kasih sudah berbelanja cemilan dari kami!\")"
      ]
    },
    {
      "cell_type": "code",
      "execution_count": 28,
      "id": "f7e66255",
      "metadata": {},
      "outputs": [
        {
          "name": "stdout",
          "output_type": "stream",
          "text": [
            "Nomor 8\n"
          ]
        }
      ],
      "source": [
        "print(\"Nomor 8\")"
      ]
    },
    {
      "cell_type": "code",
      "execution_count": 1,
      "id": "2a782490",
      "metadata": {},
      "outputs": [
        {
          "name": "stdout",
          "output_type": "stream",
          "text": [
            "------Selamat Berbelanja------\n",
            "------------------------------\n",
            "---------MENU CEMILAN---------\n",
            " 1. |Corn Dog - Rp. 10.000,-| \n",
            " 2. |Kebab    - Rp. 12.000,-| \n",
            " 3. |Hottang  - Rp. 15.000,-| \n",
            "------------------------------\n",
            "Masukkan Menu : 1\n",
            "Kamu memesan Corn Dog dengan harga per satuan Rp. 10.000,-.\n",
            "Berapa banyak Corn Dog yang dipesan? 4\n",
            "Total Bayar = Rp. 40000\n",
            "Uang Bayar = Rp. 50000\n",
            "Kembalian = Rp. 10000\n",
            "------------------------------\n",
            "Masukkan Tambahan : cukup\n",
            "Terima kasih sudah berbelanja cemilan dari kami!\n"
          ]
        }
      ],
      "source": [
        "while True :\n",
        "    print (\"------Selamat Berbelanja------\")\n",
        "    print (\"------------------------------\")\n",
        "    print (\"---------MENU CEMILAN---------\")\n",
        "    print (\" 1. |Corn Dog - Rp. 10.000,-| \")\n",
        "    print (\" 2. |Kebab    - Rp. 12.000,-| \")\n",
        "    print (\" 3. |Hottang  - Rp. 15.000,-| \")\n",
        "    print (\"------------------------------\")\n",
        "    \n",
        "    pilihMenu = input(\"Masukkan Menu : \")\n",
        "    \n",
        "    if pilihMenu == '1':\n",
        "        print(\"Kamu memesan Corn Dog dengan harga per satuan Rp. 10.000,-.\")\n",
        "        corndog = int(input(\"Berapa banyak Corn Dog yang dipesan? \"))\n",
        "        hargaCorndog = 10000\n",
        "        total = (hargaCorndog*corndog)\n",
        "        print (\"Total Bayar = Rp.\", total)\n",
        "        bayar = int(input(\"Uang Bayar = Rp. \"))\n",
        "        print (\"Kembalian = Rp.\", bayar-total)\n",
        "        print (\"------------------------------\")\n",
        "        \n",
        "    elif pilihMenu == '2':\n",
        "        print(\"Kamu memesan Kebab dengan harga per satuan Rp. 12.000,-.\")\n",
        "        kebab = int(input(\"Berapa banyak Kebab yang dipesan? \"))\n",
        "        hargaKebab = 12000\n",
        "        total = (hargaKebab*kebab)\n",
        "        print (\"Total Bayar = Rp.\", total)\n",
        "        bayar = int(input(\"Uang Bayar = Rp. \"))\n",
        "        print (\"Kembalian = Rp.\", bayar-total)\n",
        "        print (\"------------------------------\")\n",
        "        \n",
        "    elif pilihMenu == '3' :\n",
        "        print(\"Kamu memesan Hottang dengan harga per satuan Rp. 15.000,-.\")\n",
        "        hottang = int(input(\"Berapa banyak Hottang yang dipesan? \"))\n",
        "        hargaHottang = 10000\n",
        "        total = (hargaHottang*hottang)\n",
        "        print (\"Total Bayar = Rp.\", total)\n",
        "        bayar = int(input(\"Uang Bayar = Rp. \"))\n",
        "        print (\"Kembalian = Rp.\", bayar-total)\n",
        "        print (\"------------------------------\")\n",
        "        \n",
        "    else:\n",
        "        print(\"Menu tidak tersedia\")\n",
        "    \n",
        "    tambahan = input (\"Masukkan Tambahan : \")\n",
        "    if tambahan == 'cukup':\n",
        "            break\n",
        "            \n",
        "print(\"Terima kasih sudah berbelanja cemilan dari kami!\")"
      ]
    },
    {
      "cell_type": "code",
      "execution_count": null,
      "id": "b2b9851c",
      "metadata": {},
      "outputs": [],
      "source": []
    }
  ],
  "metadata": {
    "kernelspec": {
      "display_name": "Python 3 (ipykernel)",
      "language": "python",
      "name": "python3"
    },
    "language_info": {
      "codemirror_mode": {
        "name": "ipython",
        "version": 3
      },
      "file_extension": ".py",
      "mimetype": "text/x-python",
      "name": "python",
      "nbconvert_exporter": "python",
      "pygments_lexer": "ipython3",
      "version": "3.9.7"
    }
  },
  "nbformat": 4,
  "nbformat_minor": 5
}