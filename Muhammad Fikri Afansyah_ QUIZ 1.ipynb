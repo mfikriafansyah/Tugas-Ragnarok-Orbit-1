{
  "metadata": {
    "language_info": {
      "codemirror_mode": {
        "name": "python",
        "version": 3
      },
      "file_extension": ".py",
      "mimetype": "text/x-python",
      "name": "python",
      "nbconvert_exporter": "python",
      "pygments_lexer": "ipython3",
      "version": "3.8"
    },
    "kernelspec": {
      "name": "python",
      "display_name": "Pyolite",
      "language": "python"
    }
  },
  "nbformat_minor": 4,
  "nbformat": 4,
  "cells": [
    {
      "cell_type": "markdown",
      "source": "1.\tOOP adalah suatu metode pemrograman yang berorientasi objek. Implementasi OOP dalam pyhton :\n",
      "metadata": {}
    },
    {
      "cell_type": "code",
      "source": "#Implementasi OOP dalam pyhton : (Object)\nclass Car:\n\n    color = 'black'\n    transmission = 'manual'\n    gear_position = 'N'\n\n    def __init__(self, transmission):\n        self.transmission = transmission\n        print('Engine is ready!')\n\n    def drive(self):\n        self.gear_position = 'D'\n        print('Drive')\n\n    def reverse(self):\n        self.gear_position = 'N'\n        print('Reverse. Please check your behind.')\n\n    def change_gear(self, gear='N'):\n        self.gear_position = gear\n        print('Gear position on: ' + self.gear_position)\n\n    def get_gear_position(self):\n        return self.gear_position\n\ncar1 = Car('manual')\ncar1.change_gear('D-1')\n\ncar2 = Car('automatic')\ngear_position = car2.get_gear_position()\nprint(gear_position)\n",
      "metadata": {
        "trusted": true
      },
      "execution_count": 3,
      "outputs": [
        {
          "name": "stdout",
          "text": "Engine is ready!\nGear position on: D-1\nEngine is ready!\nN\n",
          "output_type": "stream"
        }
      ]
    },
    {
      "cell_type": "markdown",
      "source": "2.\t2 jenis modules yang ada di python :\n- Python custom modules\ndidefinisikan file .py, yang dapat berisi: definisi fungsi, pernyataan yang dapat dieksekusi, definisi fungsi, yang secara kolektif disebut anggota modul\n\n- Python built in modules\nPython memiliki banyak fungsi bawaan, selain itu banyak fungsi tersedia sebagai bagian dari perpustakaan yang dibundel dengan distribusi python\n",
      "metadata": {}
    },
    {
      "cell_type": "markdown",
      "source": "3. Hitunglah beberapa hasil dari akar 175+ 4 akar 7 + (1/3) + 3 log 81 menggunakan metode math",
      "metadata": {}
    },
    {
      "cell_type": "code",
      "source": "import math\n\nprint(math.sqrt(175) + (4**(1/7)) + (1/3) + math.log(81, 3))",
      "metadata": {
        "trusted": true
      },
      "execution_count": 4,
      "outputs": [
        {
          "name": "stdout",
          "text": "18.781103542860762\n",
          "output_type": "stream"
        }
      ]
    },
    {
      "cell_type": "markdown",
      "source": "4. Apa itu custom excepetion handling dan berikana 1 contoh impelemntasinya Exception Handling",
      "metadata": {}
    },
    {
      "cell_type": "markdown",
      "source": "Exception Handling adalah event yang terjadi ketika program menemui kesalahan pada saat instruksi program dijalankan. Banyak hal yang dapat menimbulkan event ini, misalnya crash, harddisk rusak dengan tiba-tiba, sehingga program-program tidak bisa mengakses file-file tertentu. Programmer pun dapat menimbulkan event ini, misalnya dengan melakukan pembagian dengan bilangan nol, atau pengisian elemen array melebihi jumlah elemen array yang dialokasikan dan sebagainya.",
      "metadata": {}
    },
    {
      "cell_type": "markdown",
      "source": "x = \"hello\"\n\nif not type(x) is int:\n  raise TypeError(\"Only integers are allowed\")\n",
      "metadata": {}
    },
    {
      "cell_type": "markdown",
      "source": "1. Apa perbedaan dari structured dan unstructured data dan sebutkan 3 sumber data\n\nStructured data : direpresentasikan dengan skema yang jelas sehingga mudah untuk dianalisa maupun diintegrasikan dengan data terstruktur lainnya\n\nUnstructured data : direpresentasikan dalam berbagai bentuk sehingga sangat sulit untuk dianalisis maupun diintegrasikan dengan sumber data lain\n\nSumber data :\nSensor \nInteraksi sosial\nTransaksi bisnis\n",
      "metadata": {}
    },
    {
      "cell_type": "markdown",
      "source": "2. ML merupakan Algortima yang menggunakan data untuk membentuk kecerdasa\nDL itu Ketika kita bermain automated feature engineering. Bagian dari ML yang memungkinkan software melatih dirinya sendiri untuk melakukan tugas dengan data dalam jumlah besar.\n",
      "metadata": {}
    },
    {
      "cell_type": "markdown",
      "source": "3. Apa perbedaan machine learning dengan tradisional software\nPerbedaan utama antara machine learning dan deep learning adalah performanya ketika jumlah data terus meningkat. Algoritma deep learning tidak mampu mengolah data dalam jumlah kecil secara maksimal. ... Sementara, algoritma machine learning mampu mengolah data dalam jumlah yang lebih kecil.",
      "metadata": {}
    },
    {
      "cell_type": "markdown",
      "source": "4. Contoh aplikasi ML di sector smart city dan agriculture\n\nAlgoritma  Convolutional  Neural  Network - Support  Vector  Machine  (CNN-SVM) digunakan  dalam  pemecahan  masalah  pemilihan  area  plat  kendaraan,  sehingga  dari data  tersebut dapat  digunakan  untuk  memecahkan  masalah dalam  pemantauan  lalu lintas jalan,  pembayaran tol  otomatis, dan  manajemen parker.\n\nAlgoritma k-NN dapat digunakan dalam klasifikasi data hasil produksi kelapa sawit pada  PT.  Minamas  Kec.  Parindu.\n",
      "metadata": {}
    },
    {
      "cell_type": "markdown",
      "source": "Maths for AI",
      "metadata": {}
    },
    {
      "cell_type": "markdown",
      "source": "1. Mengapa ilmu matematika penting ketika mempelajari Ai? Karena dalam matematika ada 4 bidang yang sangat berguna dalam ai yaitu : statistika, kalkulus dan optimisasi, aljabar linier, dan probabilitas. Pada bidang statistika, ilmu ini digunakan untuk mencari tahu hubungan antara data dan variabel-variabel dalam data tersebut. Salah satu metode dalam statistika adalah metode regresi linier yang digunakan untuk menyimpulkan kecenderungan suatu data. Kalkulus dan optimalisasi digunakan dalam pembelajaran mesin dengan menggunakan suatu algoritma yaitu gradient descent yang digunakan untuk menemukan arah dari steepest descent yang dapat menentukan titik terdalam pada satu grafik data. Setelah ditemukannya titik terdalam tersebut, suatu garis regresi linier dapat ditentukan. Sementara itu, aljabar linier adalah ilmu yang mempelajari tentang vektor dan aturan-aturan untuk memanipulasi vektor yang menjadi dasar dari gradient descent dalam kalkulus. Terakhir, bidang matematika yang berperan penting dalam pembelajaran mesin adalah probabilitas, yakni ilmu yang dapat memberikan informasi tentang seberapa mungkin suatu kejadian dapat terjadi",
      "metadata": {}
    },
    {
      "cell_type": "markdown",
      "source": "2. Jelaskan perbedaan vektor dan skalar Vektor\nVector : besaran yang memiliki nilai dan arah\nScalar : konstanta atau besaran yang memiliki nilai\n\n",
      "metadata": {}
    },
    {
      "cell_type": "markdown",
      "source": "3. Apa perbedaan dari jarak euclidean dan manhattan\nJarak Euclidean : jarak antara dua titik yang satu dengan yang lain yang dapat diukur dengna menggunakan penggaris, pada perhitungan jarak Euclidean digunakan formula Pythagoras\n\nManhattan : merupakan bentuk geometri di mana fungsi jarak biasa atau metrik geometri Euclidean digantikan oleh metrik baru di mana jarak antara dua titik adalah jumlah dari perbedaan mutlak mereka Cartesian koordinat\n",
      "metadata": {}
    },
    {
      "cell_type": "markdown",
      "source": "4. Apa kegunaan matriks dalam ilmu matematika ketika menerapkan AI\n\nkarena matriks merupakan salah satu dasar pada Aljabar Linear yang merupakan salah satu bidan matematika yang dibutuhkan untuk AI\n",
      "metadata": {}
    },
    {
      "cell_type": "markdown",
      "source": "Machine Learning",
      "metadata": {}
    },
    {
      "cell_type": "markdown",
      "source": "1. Supervised learning\nUmumnya digunakan untuk menemukan pola dalam data masukan yang diberi label sehigga kita menghasilkan data keluaran yang benar secara efektif.\nCiri ciri :\nData training telah diberi label\nAlgoritma  memprediksi output dari input, contoh (klasifikasi, regresi)\n\nUnsupervised learning\nUmumnya digunakan untuk mempelajari struktur karakteristik data kita tanpa menggunakan label yang disediakan secara eksplisit.\nCiri ciri:\nData training tidak berlabel\nAlgoritma mempelajari struktur karakteristik dari data masukan, contoh (clustering, dimensional reduction)\n",
      "metadata": {}
    },
    {
      "cell_type": "markdown",
      "source": "2. Tahap yang ada di Machine learning life cycle \n\n- Gathering Data\nPengumpulan Data adalah langkah pertama dari siklus hidup pembelajaran mesin. Tujuan dari langkah ini adalah untuk mengidentifikasi dan mendapatkan semua masalah terkait data\n- Data preparation\nPersiapan data adalah langkah di mana kita menempatkan data kita ke tempat yang sesuai dan mempersiapkannya untuk digunakan dalam pelatihan pembelajaran mesin.\n- Data Wrangling\nPerselisihan data adalah proses membersihkan dan mengubah data mentah menjadi format yang dapat digunakan. Ini adalah proses membersihkan data, memilih variabel yang akan digunakan, dan mengubah data dalam format yang tepat agar lebih cocok untuk analisis pada langkah berikutnya. Ini adalah salah satu langkah terpenting dari proses lengkap.\n- Analyse Data\nTujuan dari langkah ini adalah untuk membangun model pembelajaran mesin untuk menganalisis data menggunakan berbagai teknik analisis dan meninjau hasilnya.\n- Train the model\ndalam langkah ini kita melatih model untuk meningkatkan kinerjanya untuk hasil yang lebih baik dari masalah.\nMenggunakan kumpulan data untuk melatih model menggunakan berbagai algoritme pembelajaran mesin. Pelatihan sebuah model diperlukan agar dapat memahami berbagai pola, aturan, dan fitur.\n- Test the model\nMemeriksa keakuratan model dengan menyediakan kumpulan data uji untuk itu.\n- Deployment\nLangkah terakhir dari siklus hidup pembelajaran mesin adalah penerapan, di mana kita menerapkan model dalam sistem dunia nyata\n",
      "metadata": {}
    },
    {
      "cell_type": "markdown",
      "source": "3. Regression : digunakan untuk menganalisis hubungan atau realsi dalam\nClustering : mmerupakan metode yang dapat mengkalsifikasikan data\n",
      "metadata": {}
    },
    {
      "cell_type": "markdown",
      "source": "4. Algoritmat ANN?\nArtificial Neural network merupakan algoritma yang menirukan bagaimana cara kerja neuron manusia. Fungsi dari ANN adalah pengkalsifikasian pola yang bisa dipanggil kembali",
      "metadata": {}
    }
  ]
}