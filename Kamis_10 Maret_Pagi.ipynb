{
 "cells": [
  {
   "cell_type": "markdown",
   "id": "a9cf6894",
   "metadata": {},
   "source": [
    "## Latihan Tambahan"
   ]
  },
  {
   "cell_type": "markdown",
   "id": "d61b11e7",
   "metadata": {},
   "source": [
    "Misalkan kamu adalah data scientist di gojek. Kamu ingin mengetahui apakah kemacetan mempengaruhi tingkat kepuasan pelanggan. Jadi kamu ingin memebandingkan nilai \"bintang\" dari customer saat dia order di jam macet dan tidak macet. (#hint = data dari customer yang sama)\n",
    "\n",
    "macet = [2, 3, 5, 4, 5, 4, 4, 3, 4, 3, 4, 5, 4, 5, 4, 3, 4, 3, 3, 5, 4, 3, 4, 3, 4, 3, 4, 4, 5]\n",
    "\n",
    "tidak_macet = [2, 2, 4, 5, 4, 3, 3, 3, 3, 3, 3, 4, 4, 5, 4, 3, 3, 2, 3, 4, 4, 3, 3, 3, 4, 3, 4, 3, 4]\n",
    "\n",
    "1. Buat hipotesisnya\n",
    "2. Lakukan uji asumsi normalitasnya\n",
    "3. Jika datanya normal lakukan uji parametrik, jika tidak berdistribusi normal lakukan uji nonparametrik\n",
    "4. Apa kesimpulan uji hipotesisnya?"
   ]
  },
  {
   "cell_type": "code",
   "execution_count": 1,
   "id": "58d44b16",
   "metadata": {},
   "outputs": [],
   "source": [
    "import matplotlib.pyplot as plt\n",
    "import pandas as pd\n",
    "import seaborn as sns\n",
    "import numpy as np\n",
    "from scipy import stats"
   ]
  },
  {
   "cell_type": "code",
   "execution_count": 2,
   "id": "7755b1cd",
   "metadata": {},
   "outputs": [],
   "source": [
    "#DATA\n",
    "\n",
    "macet = np.array([2, 3, 5, 4, 5, 4, 4, 3, 4, 3, 4, 5, 4, 5, 4, 3, 4, 3, 3, 5, 4, 3, 4, 3, 4, 3, 4, 4, 5])\n",
    "tidak_macet = np.array([2, 2, 4, 5, 4, 3, 3, 3, 3, 3, 3, 4, 4, 5, 4, 3, 3, 2, 3, 4, 4, 3, 3, 3, 4, 3, 4, 3, 4])"
   ]
  },
  {
   "cell_type": "code",
   "execution_count": 3,
   "id": "b7948d2d",
   "metadata": {},
   "outputs": [
    {
     "data": {
      "text/plain": [
       "(29, 29)"
      ]
     },
     "execution_count": 3,
     "metadata": {},
     "output_type": "execute_result"
    }
   ],
   "source": [
    "len(macet), len(tidak_macet)"
   ]
  },
  {
   "cell_type": "markdown",
   "id": "e5aede60",
   "metadata": {},
   "source": [
    "## Uji Normalitas"
   ]
  },
  {
   "cell_type": "code",
   "execution_count": 14,
   "id": "ade2bc9f",
   "metadata": {
    "scrolled": true
   },
   "outputs": [
    {
     "name": "stderr",
     "output_type": "stream",
     "text": [
      "C:\\Users\\Alifa\\anaconda3\\lib\\site-packages\\seaborn\\distributions.py:2619: FutureWarning: `distplot` is a deprecated function and will be removed in a future version. Please adapt your code to use either `displot` (a figure-level function with similar flexibility) or `histplot` (an axes-level function for histograms).\n",
      "  warnings.warn(msg, FutureWarning)\n",
      "C:\\Users\\Alifa\\anaconda3\\lib\\site-packages\\seaborn\\distributions.py:2619: FutureWarning: `distplot` is a deprecated function and will be removed in a future version. Please adapt your code to use either `displot` (a figure-level function with similar flexibility) or `histplot` (an axes-level function for histograms).\n",
      "  warnings.warn(msg, FutureWarning)\n"
     ]
    },
    {
     "data": {
      "text/plain": [
       "<AxesSubplot:ylabel='Density'>"
      ]
     },
     "execution_count": 14,
     "metadata": {},
     "output_type": "execute_result"
    },
    {
     "data": {
      "image/png": "[encoded data removed]",
      "text/plain": [
       "<Figure size 432x288 with 1 Axes>"
      ]
     },
     "metadata": {
      "needs_background": "light"
     },
     "output_type": "display_data"
    }
   ],
   "source": [
    "#HISTOGRAM\n",
    "\n",
    "sns.distplot(macet)\n",
    "sns.distplot(tidak_macet)"
   ]
  },
  {
   "cell_type": "markdown",
   "id": "9c937ed0",
   "metadata": {},
   "source": [
    "Berdasarkan histogram diatas, data terdistibusi normal karena cenderung berbentuk lonceng dengan rata-rata di tengah. Asumsikan Selang kepercayaan = 95% dan alpha 5%"
   ]
  },
  {
   "cell_type": "code",
   "execution_count": 5,
   "id": "dd942898",
   "metadata": {},
   "outputs": [
    {
     "name": "stdout",
     "output_type": "stream",
     "text": [
      "Uji Kolmogorov-smornov data macet =\n",
      " KstestResult(statistic=0.2414618941043637, pvalue=0.056685222453497386)\n",
      "Uji Kolmogorov-smornov data tidak macet =\n",
      " KstestResult(statistic=0.2769460572882385, pvalue=0.018550502658514656)\n"
     ]
    }
   ],
   "source": [
    "#UJI Kolmogorov-smirnov\n",
    "\n",
    "z_score_macet = stats.zscore(macet)\n",
    "z_score_tidak_macet = stats.zscore(tidak_macet)\n",
    "print(\"Uji Kolmogorov-smornov data macet =\\n\", stats.kstest(z_score_macet, \"norm\"))\n",
    "print(\"Uji Kolmogorov-smornov data tidak macet =\\n\", stats.kstest(z_score_tidak_macet, \"norm\"))"
   ]
  },
  {
   "cell_type": "markdown",
   "id": "5b8c8577",
   "metadata": {},
   "source": [
    "* Hasil dari p-value macet       = 0.0566(<=0.05) Data tidak terdistribusi normal\n",
    "* Hasil dari p-value tidak macet = 0.0185(<=0.05) Data tidak terdistribusi normal\n",
    "\n",
    "* Jika p-value <= alpha maka Ho ditolak\n",
    "* Jika p-value > alpha maka Ho diterima\n",
    "\n",
    "Karena kedua nilai p-value <= 0.05, maka Ho ditolak dan data tidak terdistibusi normal"
   ]
  },
  {
   "cell_type": "markdown",
   "id": "c9c82f17",
   "metadata": {},
   "source": [
    "## Uji Wilcoxon (Non-Parametik)"
   ]
  },
  {
   "cell_type": "markdown",
   "id": "37d5af32",
   "metadata": {},
   "source": [
    "Ho = Tidak ada perbedaan yang signifikan(keduanya sama)\n",
    "\n",
    "Ha = Ada perbedaa yang signifikan(keadaan macet dan tidak nya lalu lintah mempengaruhi rating bintang yang diberikan pengguna ke mitra gojek)\n",
    "\n",
    "Dikarenakan data tidak terdistribusi normal, maka Uji Wilcoxon dilakukan:"
   ]
  },
  {
   "cell_type": "code",
   "execution_count": 16,
   "id": "ecd8eeb8",
   "metadata": {},
   "outputs": [
    {
     "data": {
      "text/plain": [
       "WilcoxonResult(statistic=8.0, pvalue=0.0007891129890156299)"
      ]
     },
     "execution_count": 16,
     "metadata": {},
     "output_type": "execute_result"
    }
   ],
   "source": [
    "a = macet - tidak_macet\n",
    "stats.wilcoxon(a)"
   ]
  },
  {
   "cell_type": "markdown",
   "id": "a23a2217",
   "metadata": {},
   "source": [
    "Karena p-value = 0.0007 (<=0.5), maka Ho ditolak. "
   ]
  },
  {
   "cell_type": "markdown",
   "id": "481f76b2",
   "metadata": {},
   "source": [
    "## Kesimpulan\n",
    "\n",
    "Karena Ho ditolak, maka kemacetan berpangaruh signifikan terhadap rating bintang yang diberikan oleh user kepada mitra."
   ]
  },
  {
   "cell_type": "code",
   "execution_count": null,
   "id": "1a2ace39",
   "metadata": {},
   "outputs": [],
   "source": []
  }
 ],
 "metadata": {
  "kernelspec": {
   "display_name": "Python 3 (ipykernel)",
   "language": "python",
   "name": "python3"
  },
  "language_info": {
   "codemirror_mode": {
    "name": "ipython",
    "version": 3
   },
   "file_extension": ".py",
   "mimetype": "text/x-python",
   "name": "python",
   "nbconvert_exporter": "python",
   "pygments_lexer": "ipython3",
   "version": "3.9.7"
  }
 },
 "nbformat": 4,
 "nbformat_minor": 5
}
