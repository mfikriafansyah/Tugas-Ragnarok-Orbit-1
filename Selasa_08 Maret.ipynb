{
 "cells": [
  {
   "cell_type": "markdown",
   "id": "aad8a260",
   "metadata": {},
   "source": [
    "## Latihan 4 (operasi matriks)"
   ]
  },
  {
   "cell_type": "code",
   "execution_count": 1,
   "id": "9351f5ee",
   "metadata": {},
   "outputs": [],
   "source": [
    "import numpy as np"
   ]
  },
  {
   "cell_type": "code",
   "execution_count": 6,
   "id": "0364c2aa",
   "metadata": {},
   "outputs": [
    {
     "name": "stdout",
     "output_type": "stream",
     "text": [
      "[[1 2]\n",
      " [7 8]]\n",
      "[[3 5]\n",
      " [1 6]]\n"
     ]
    }
   ],
   "source": [
    "A = np.array([[1, 2], [7,8]])\n",
    "B = np.array([[3, 5], [1,6]])\n",
    "\n",
    "print(A)\n",
    "print(B)"
   ]
  },
  {
   "cell_type": "markdown",
   "id": "ac9cb549",
   "metadata": {},
   "source": [
    "Hitunglah:\n",
    "\n",
    "* 2*A\n",
    "* 2+A\n",
    "* A+B\n",
    "* A-B\n",
    "* determinan A\n",
    "* invers dari B, simpan jadi matriks D\n",
    "* transpose D\n",
    "*nilai eigen dan vektor eigen dari A dan B"
   ]
  },
  {
   "cell_type": "code",
   "execution_count": 32,
   "id": "23331586",
   "metadata": {},
   "outputs": [
    {
     "name": "stdout",
     "output_type": "stream",
     "text": [
      "2*A:\n",
      " [[ 2  4]\n",
      " [14 16]]\n"
     ]
    }
   ],
   "source": [
    "print(\"2*A:\\n\", 2*A)"
   ]
  },
  {
   "cell_type": "code",
   "execution_count": 33,
   "id": "ec9d1116",
   "metadata": {},
   "outputs": [
    {
     "name": "stdout",
     "output_type": "stream",
     "text": [
      "2+A:\n",
      " [[ 3  4]\n",
      " [ 9 10]]\n"
     ]
    }
   ],
   "source": [
    "print(\"2+A:\\n\", 2+A)"
   ]
  },
  {
   "cell_type": "code",
   "execution_count": 18,
   "id": "975da3d9",
   "metadata": {},
   "outputs": [
    {
     "name": "stdout",
     "output_type": "stream",
     "text": [
      "A+B=\n",
      " [[ 4  7]\n",
      " [ 8 14]]\n"
     ]
    }
   ],
   "source": [
    "print(\"A+B=\\n\", A+B)"
   ]
  },
  {
   "cell_type": "code",
   "execution_count": 19,
   "id": "34c9b79c",
   "metadata": {},
   "outputs": [
    {
     "name": "stdout",
     "output_type": "stream",
     "text": [
      "A-B=\n",
      " [[-2 -3]\n",
      " [ 6  2]]\n"
     ]
    }
   ],
   "source": [
    "print(\"A-B=\\n\", A-B)"
   ]
  },
  {
   "cell_type": "code",
   "execution_count": 15,
   "id": "2382fc53",
   "metadata": {},
   "outputs": [
    {
     "name": "stdout",
     "output_type": "stream",
     "text": [
      "Determinan A:\n",
      " -6.0\n"
     ]
    }
   ],
   "source": [
    "print(\"Determinan A:\\n\", np.linalg.det(A))"
   ]
  },
  {
   "cell_type": "code",
   "execution_count": 13,
   "id": "9c29e817",
   "metadata": {},
   "outputs": [
    {
     "name": "stdout",
     "output_type": "stream",
     "text": [
      "D:\n",
      " [[ 0.46153846 -0.38461538]\n",
      " [-0.07692308  0.23076923]]\n"
     ]
    }
   ],
   "source": [
    "d = np.linalg.inv(B)\n",
    "print(\"D:\\n\", d)"
   ]
  },
  {
   "cell_type": "code",
   "execution_count": 23,
   "id": "f84146cf",
   "metadata": {},
   "outputs": [
    {
     "name": "stdout",
     "output_type": "stream",
     "text": [
      "Transpose D:\n",
      " [[ 0.46153846 -0.07692308]\n",
      " [-0.38461538  0.23076923]]\n"
     ]
    }
   ],
   "source": [
    "transD = d.transpose()\n",
    "print(\"Transpose D:\\n\", transD)"
   ]
  },
  {
   "cell_type": "code",
   "execution_count": 30,
   "id": "693f6bc9",
   "metadata": {},
   "outputs": [
    {
     "name": "stdout",
     "output_type": "stream",
     "text": [
      "Nilai eigen dan vektor eigen matriks A:\n",
      " (array([-0.62347538,  9.62347538]), array([[-0.77640358, -0.22592838],\n",
      "       [ 0.63023605, -0.97414391]]))\n"
     ]
    }
   ],
   "source": [
    "print(\"Nilai eigen dan vektor eigen matriks A:\\n\", np.linalg.eig(A))"
   ]
  },
  {
   "cell_type": "code",
   "execution_count": 29,
   "id": "7712ac53",
   "metadata": {},
   "outputs": [
    {
     "name": "stdout",
     "output_type": "stream",
     "text": [
      "Nilai eigen dan vektor eigen matriks B:\n",
      " (array([1.8074176, 7.1925824]), array([[-0.97271381, -0.76626443],\n",
      "       [ 0.23200828, -0.64252535]]))\n"
     ]
    }
   ],
   "source": [
    "print(\"Nilai eigen dan vektor eigen matriks B:\\n\", np.linalg.eig(B))"
   ]
  },
  {
   "cell_type": "code",
   "execution_count": null,
   "id": "91af96fe",
   "metadata": {},
   "outputs": [],
   "source": []
  }
 ],
 "metadata": {
  "kernelspec": {
   "display_name": "Python 3 (ipykernel)",
   "language": "python",
   "name": "python3"
  },
  "language_info": {
   "codemirror_mode": {
    "name": "ipython",
    "version": 3
   },
   "file_extension": ".py",
   "mimetype": "text/x-python",
   "name": "python",
   "nbconvert_exporter": "python",
   "pygments_lexer": "ipython3",
   "version": "3.9.7"
  }
 },
 "nbformat": 4,
 "nbformat_minor": 5
}
